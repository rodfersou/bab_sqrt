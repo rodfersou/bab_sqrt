{
 "cells": [
  {
   "cell_type": "markdown",
   "id": "7577ca44-403d-424b-86aa-c4d33fc6b681",
   "metadata": {},
   "source": [
    "https://www.youtube.com/watch?v=MXveVqBxFow"
   ]
  },
  {
   "cell_type": "code",
   "execution_count": 54,
   "id": "313ca6bc-9df7-4bf0-b4e2-3126b66cf492",
   "metadata": {},
   "outputs": [
    {
     "data": {
      "image/jpeg": "[encoded data removed]",
      "text/html": [
       "\n",
       "        <iframe\n",
       "            width=\"400\"\n",
       "            height=\"300\"\n",
       "            src=\"https://www.youtube.com/embed/MXveVqBxFow\"\n",
       "            frameborder=\"0\"\n",
       "            allowfullscreen\n",
       "            \n",
       "        ></iframe>\n",
       "        "
      ],
      "text/plain": [
       "<IPython.lib.display.YouTubeVideo at 0x7fef3c768290>"
      ]
     },
     "execution_count": 54,
     "metadata": {},
     "output_type": "execute_result"
    }
   ],
   "source": [
    "from IPython.display import YouTubeVideo\n",
    "\n",
    "YouTubeVideo('MXveVqBxFow')"
   ]
  },
  {
   "cell_type": "code",
   "execution_count": 1,
   "id": "aac77615-9073-443d-808d-16c078326ab1",
   "metadata": {},
   "outputs": [],
   "source": [
    "def gen_sqrt():\n",
    "    i = 1\n",
    "    while True:\n",
    "        yield i*i, i\n",
    "        i += 1"
   ]
  },
  {
   "cell_type": "code",
   "execution_count": 21,
   "id": "67b9cbb6-2d22-4155-b0f1-0e12aa89ffc1",
   "metadata": {},
   "outputs": [],
   "source": [
    "def closest(number):\n",
    "    known = gen_sqrt()\n",
    "    rem = number + 1\n",
    "    x = y = 0\n",
    "    while rem > (next_rem := abs(number - x)):\n",
    "        rem = next_rem\n",
    "        prev = x, y\n",
    "        x, y = next(known)\n",
    "    return prev"
   ]
  },
  {
   "cell_type": "code",
   "execution_count": 22,
   "id": "9b98243c-0003-4a7f-8db5-874b32962e69",
   "metadata": {},
   "outputs": [
    {
     "data": {
      "text/plain": [
       "(16, 4)"
      ]
     },
     "execution_count": 22,
     "metadata": {},
     "output_type": "execute_result"
    }
   ],
   "source": [
    "closest_known(17)"
   ]
  },
  {
   "cell_type": "code",
   "execution_count": 65,
   "id": "677d4665-2201-46de-aa0f-66706299cba4",
   "metadata": {},
   "outputs": [],
   "source": [
    "def _bab_sqrt(number, approx=None):\n",
    "    _, y = closest(number)\n",
    "    if approx:\n",
    "        y = approx\n",
    "    return y + ((number - y * y) / (y * 2))\n",
    "\n",
    "\n",
    "def bab_sqrt(number):\n",
    "    approx = _bab_sqrt(number)\n",
    "    for _ in range(3):\n",
    "        approx = _bab_sqrt(number, approx)\n",
    "    return approx"
   ]
  },
  {
   "cell_type": "code",
   "execution_count": 66,
   "id": "8aa770a3-b948-45b1-9162-a2dea0a610ac",
   "metadata": {},
   "outputs": [
    {
     "data": {
      "text/plain": [
       "4.123105625617661"
      ]
     },
     "execution_count": 66,
     "metadata": {},
     "output_type": "execute_result"
    }
   ],
   "source": [
    "bab_sqrt(17)"
   ]
  },
  {
   "cell_type": "code",
   "execution_count": 67,
   "id": "b2311376-7bbf-4b2a-be36-55d1ee43c797",
   "metadata": {},
   "outputs": [
    {
     "data": {
      "text/plain": [
       "8.306623862918075"
      ]
     },
     "execution_count": 67,
     "metadata": {},
     "output_type": "execute_result"
    }
   ],
   "source": [
    "bab_sqrt(69)"
   ]
  },
  {
   "cell_type": "code",
   "execution_count": 69,
   "id": "f0293112-7c49-4bd6-b8d4-4fea318d0efa",
   "metadata": {},
   "outputs": [
    {
     "data": {
      "text/plain": [
       "10.535653752852738"
      ]
     },
     "execution_count": 69,
     "metadata": {},
     "output_type": "execute_result"
    }
   ],
   "source": [
    "bab_sqrt(111)"
   ]
  },
  {
   "cell_type": "code",
   "execution_count": 68,
   "id": "e5ba6811-a786-46d8-a89c-432b6c58a6b4",
   "metadata": {},
   "outputs": [
    {
     "data": {
      "text/plain": [
       "1.4142135623746899"
      ]
     },
     "execution_count": 68,
     "metadata": {},
     "output_type": "execute_result"
    }
   ],
   "source": [
    "bab_sqrt(2)"
   ]
  },
  {
   "cell_type": "code",
   "execution_count": null,
   "id": "b28fc026-732a-411a-bef0-387da0adcdf9",
   "metadata": {},
   "outputs": [],
   "source": []
  }
 ],
 "metadata": {
  "kernelspec": {
   "display_name": "Python 3 (ipykernel)",
   "language": "python",
   "name": "python3"
  },
  "language_info": {
   "codemirror_mode": {
    "name": "ipython",
    "version": 3
   },
   "file_extension": ".py",
   "mimetype": "text/x-python",
   "name": "python",
   "nbconvert_exporter": "python",
   "pygments_lexer": "ipython3",
   "version": "3.12.7"
  }
 },
 "nbformat": 4,
 "nbformat_minor": 5
}
